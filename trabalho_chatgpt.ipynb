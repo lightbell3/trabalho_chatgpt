{
  "nbformat": 4,
  "nbformat_minor": 0,
  "metadata": {
    "colab": {
      "provenance": []
    },
    "kernelspec": {
      "name": "python3",
      "display_name": "Python 3"
    },
    "language_info": {
      "name": "python"
    }
  },
  "cells": [
    {
      "cell_type": "markdown",
      "source": [
        "Trabalho Breno Goes e Gabriel Gustavo"
      ],
      "metadata": {
        "id": "BDcKqGjD0R61"
      }
    },
    {
      "cell_type": "markdown",
      "source": [
        "Crie uma função em python que seja capaz de utilizar a API do Yahoo finance para baixar os dados históricos diários das ações da Petrobras (código PETR4) e salvar esses dados como um arquivo .csv"
      ],
      "metadata": {
        "id": "BDcKqGjD0R60"
      }
    },
    {
      "cell_type": "code",
      "source": [
        "import pandas as pd\n",
        "import yfinance as yf\n",
        "\n",
        "def download_save_stock_data(symbol, start_date, end_date, output_file):\n",
        "    # Baixa os dados históricos das ações usando a API do Yahoo Finance\n",
        "    stock_data = yf.download(symbol, start=start_date, end=end_date)\n",
        "\n",
        "    # Salva os dados em um arquivo CSV\n",
        "    stock_data.to_csv(output_file)\n",
        "\n",
        "# Define o símbolo da ação (PETR4), as datas de início e fim desejadas, e o nome do arquivo de saída\n",
        "symbol = \"PETR4.SA\"  # O \".SA\" indica que é uma ação da B3 (Bolsa de Valores do Brasil)\n",
        "start_date = \"2022-01-01\"\n",
        "end_date = \"2022-12-31\"\n",
        "output_file = \"petr4_data.csv\"\n",
        "\n",
        "# Chama a função para baixar e salvar os dados\n",
        "download_save_stock_data(symbol, start_date, end_date, output_file)"
      ],
      "metadata": {
        "colab": {
          "base_uri": "https://localhost:8080/"
        },
        "id": "jABmjOij0RYd",
        "outputId": "c085c4e1-bee7-41cd-e15c-a81a5fd0b768"
      },
      "execution_count": null,
      "outputs": [
        {
          "output_type": "stream",
          "name": "stdout",
          "text": [
            "\r[*********************100%***********************]  1 of 1 completed\n"
          ]
        }
      ]
    },
    {
      "cell_type": "markdown",
      "source": [
        "Crie uma função em python que receba um nome de arquivo .csv, carregue o conteúdo do arquivo e retorne um dataframe contendo o valor do arquivo. A partir dessa função, carregue o conteúdo do arquivo .csv da questão 1 (acima) e imprima o conteúdo das últimas 10 linhas.\n",
        "\n"
      ],
      "metadata": {
        "id": "dneZvWWN0v6t"
      }
    },
    {
      "cell_type": "code",
      "source": [
        "import pandas as pd\n",
        "import yfinance as yf\n",
        "\n",
        "def download_save_stock_data(symbol, start_date, end_date, output_file):\n",
        "    # Baixa os dados históricos das ações usando a API do Yahoo Finance\n",
        "    stock_data = yf.download(symbol, start=start_date, end=end_date)\n",
        "\n",
        "    # Salva os dados em um arquivo CSV\n",
        "    stock_data.to_csv(output_file)\n",
        "\n",
        "# Define o símbolo da ação (PETR4), as datas de início e fim desejadas, e o nome do arquivo de saída\n",
        "symbol = \"PETR4.SA\"  # O \".SA\" indica que é uma ação da B3 (Bolsa de Valores do Brasil)\n",
        "start_date = \"2022-01-01\"\n",
        "end_date = \"2022-12-31\"\n",
        "output_file = \"petr4_data.csv\"\n",
        "\n",
        "# Chama a função para baixar e salvar os dados\n",
        "download_save_stock_data(symbol, start_date, end_date, output_file)\n",
        "\n",
        "\n",
        "def load_csv_file(filename):\n",
        "    # Carrega o conteúdo do arquivo CSV em um dataframe\n",
        "    dataframe = pd.read_csv(filename)\n",
        "    return dataframe\n",
        "\n",
        "# Nome do arquivo .csv a ser carregado\n",
        "filename = \"petr4_data.csv\"\n",
        "\n",
        "# Chama a função para carregar o conteúdo do arquivo .csv\n",
        "dataframe = load_csv_file(filename)\n",
        "\n",
        "# Imprime as últimas 10 linhas do dataframe\n",
        "print(dataframe.tail(10))\n",
        "\n",
        "\n",
        "\n",
        "def calculate_stats(dataframe, column_name):\n",
        "    # Extrai a coluna especificada do dataframe\n",
        "    column = dataframe[column_name]\n",
        "\n",
        "    # Calcula a média e o desvio padrão da coluna\n",
        "    mean = column.mean()\n",
        "    std = column.std()\n",
        "\n",
        "    return mean, std\n",
        "\n",
        "# DataFrame da pergunta anterior\n",
        "# Supondo que o dataframe tenha sido atribuído à variável \"dataframe\"\n",
        "# ...\n",
        "\n",
        "# Nome da coluna para cálculo das estatísticas\n",
        "column_name = \"Close\"  # Por exemplo, \"Close\" representa o preço de fechamento\n",
        "\n",
        "# Chama a função para calcular a média e o desvio padrão da coluna especificada\n",
        "mean, std = calculate_stats(dataframe, column_name)\n",
        "\n",
        "# Imprime a média e o desvio padrão\n",
        "print(f\"Média: {mean}\")\n",
        "print(f\"Desvio padrão: {std}\")\n",
        "\n",
        "\n",
        "\n",
        "\n",
        "def sort_dataframe(dataframe, column_name):\n",
        "    # Ordena o dataframe com base na coluna especificada\n",
        "    sorted_dataframe = dataframe.sort_values(by=column_name)\n",
        "\n",
        "    return sorted_dataframe\n",
        "\n",
        "# DataFrame da pergunta anterior\n",
        "# Supondo que o dataframe tenha sido atribuído à variável \"dataframe\"\n",
        "# ...\n",
        "\n",
        "# Nome da coluna para ordenação\n",
        "column_name = \"Close\"  # Por exemplo, \"Close\" representa o preço de fechamento\n",
        "\n",
        "# Chama a função para ordenar o dataframe pela coluna especificada\n",
        "sorted_dataframe = sort_dataframe(dataframe, column_name)\n",
        "\n",
        "# Imprime o dataframe ordenado\n",
        "print(sorted_dataframe)\n"
      ],
      "metadata": {
        "id": "lPi8QArT07Xs"
      },
      "execution_count": null,
      "outputs": []
    },
    {
      "cell_type": "markdown",
      "source": [
        "Crie uma função que receba como entrada (parâmetros) um dataframe da pergunta 2 onde cada coluna possui uma série de números. A função deve receber também o nome de uma das colunas. A função deve retornar um dataframe resultante, a partir do dataframe de entrada, onde as linhas foram ordenadas em ordem crescente pelos números da coluna cujo nome foi recebido como parâmetro."
      ],
      "metadata": {
        "id": "jU7Azki_1NgU"
      }
    },
    {
      "cell_type": "code",
      "source": [
        "def calculate_stats(dataframe, column_name):\n",
        "    # Extrai a coluna especificada do dataframe\n",
        "    column = dataframe[column_name]\n",
        "\n",
        "    # Calcula a média e o desvio padrão da coluna\n",
        "    mean = column.mean()\n",
        "    std = column.std()\n",
        "\n",
        "    return mean, std\n",
        "\n",
        "# DataFrame da pergunta anterior\n",
        "# Supondo que o dataframe tenha sido atribuído à variável \"dataframe\"\n",
        "# ...\n",
        "\n",
        "# Nome da coluna para cálculo das estatísticas\n",
        "column_name = \"Close\"  # Por exemplo, \"Close\" representa o preço de fechamento\n",
        "\n",
        "# Chama a função para calcular a média e o desvio padrão da coluna especificada\n",
        "mean, std = calculate_stats(dataframe, column_name)\n",
        "\n",
        "# Imprime a média e o desvio padrão\n",
        "print(f\"Média: {mean}\")\n",
        "print(f\"Desvio padrão: {std}\")\n"
      ],
      "metadata": {
        "id": "bvyFRd0Y1axE"
      },
      "execution_count": null,
      "outputs": []
    }
  ]
}
